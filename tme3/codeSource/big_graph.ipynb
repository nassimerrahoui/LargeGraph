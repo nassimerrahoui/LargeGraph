{
 "cells": [
  {
   "cell_type": "markdown",
   "metadata": {},
   "source": [
    "### CPA - Handling a large graph"
   ]
  },
  {
   "cell_type": "markdown",
   "metadata": {},
   "source": [
    "#### Pour tester le programme, il faut exécuter chaque blocs les uns à la suite des autres :\n",
    "- Cliquez sur le bloc de code\n",
    "- Appuyez sur Ctrl + Enter"
   ]
  },
  {
   "cell_type": "markdown",
   "metadata": {},
   "source": [
    "### Question 2"
   ]
  },
  {
   "cell_type": "markdown",
   "metadata": {},
   "source": [
    "La lecture du grand graph prend environ 1 min 30."
   ]
  },
  {
   "cell_type": "code",
   "execution_count": 2,
   "metadata": {},
   "outputs": [
    {
     "name": "stdout",
     "output_type": "stream",
     "text": [
      "Data :\n",
      "Nombre d'arêtes : 34681189\n",
      "Nombre de sommets : 4036538\n"
     ]
    }
   ],
   "source": [
    "# Les noeuds sans liens sont comptés dans cet exemple.\n",
    "\n",
    "def print_details(file):\n",
    "    nb_sommets = 0\n",
    "    nb_edges = 0\n",
    "    with open(file, \"r\") as f:\n",
    "        for e in f:\n",
    "            if e.startswith(\"#\"):\n",
    "                continue\n",
    "            nb_edges = nb_edges + 1\n",
    "            indice_points = e.split(\"\\t\")\n",
    "\n",
    "            if nb_sommets == 0:\n",
    "                nb_sommets = int(indice_points[0])\n",
    "            elif int(indice_points[0]) > int(nb_sommets):\n",
    "                nb_sommets = indice_points[0]\n",
    "            elif int(indice_points[1]) > int(nb_sommets):\n",
    "                nb_sommets = int(indice_points[1].rstrip('\\n'))\n",
    "\n",
    "    print(\"Nombre d'arêtes : \" + str(nb_edges))\n",
    "    print(\"Nombre de sommets : \" + str(nb_sommets + 1))\n",
    "\n",
    "print(\"Data :\")\n",
    "graph = open(\"graphs/com-lj.ungraph/com-lj.ungraph.txt\", \"r\")\n",
    "print_details(\"graphs/com-lj.ungraph/com-lj.ungraph.txt\")\n",
    "\n",
    "# Data :\n",
    "# Nombre d'arêtes : 34681189\n",
    "# Nombre de sommets : 4036538"
   ]
  },
  {
   "cell_type": "markdown",
   "metadata": {},
   "source": [
    "### Question 3 (Le fichier est déjâ nettoyer, ne pas reexécuter le bloc ci-dessous)\n",
    "#### Notre méthode de nettoyage de donnée suit les étpaes suivantes :\n",
    "- Pour chaque edge, trier les points pour que le plus petit sommet se trouve en debut de ligne dans le fichier\n",
    "- Ecrire en parallèle chaque résultat dans un fichier sorted_data\n",
    "- Ecrire dans un fichier cleaned_data chaque edge en evitant de creer des doublons"
   ]
  },
  {
   "cell_type": "code",
   "execution_count": null,
   "metadata": {},
   "outputs": [],
   "source": [
    "# On trie les edges dans un nouveau fichier sorted_data\n",
    "# Pour chaque edge, on met le point d'indice plus petit en debut de ligne\n",
    "\n",
    "graph = open(\"graphs/com-lj.ungraph/com-lj.ungraph.txt\", \"r\")\n",
    "sorted_graph = open(\"graphs/com-lj.ungraph/sorted_data\", \"w+\")\n",
    "for e in graph:\n",
    "    if e.startswith(\"#\"):\n",
    "        continue\n",
    "    e = e.rstrip(\"\\n\")\n",
    "    array_e = e.split(\"\\t\")\n",
    "    if(int(array_e[0]) > int(array_e[1])):\n",
    "        array_e[0],array_e[1] = array_e[1],array_e[0]\n",
    "        str_e = ' '.join(array_e)\n",
    "        sorted_graph.write(str_e + \"\\n\")\n",
    "        continue\n",
    "    str_e = ' '.join(array_e)\n",
    "    sorted_graph.write(str_e + \"\\n\")\n",
    "\n",
    "sorted_graph.close()\n",
    "graph.close()\n",
    "\n",
    "# A partir de sorted_data\n",
    "# on cree un fichier cleaned_data contenant les edges sans doublon\n",
    "\n",
    "sorted_graph = open(\"graphs/com-lj.ungraph/sorted_data\", \"r\")\n",
    "cleaned_graph = open(\"graphs/com-lj.ungraph/cleaned_data\", \"w+\")\n",
    "for e in sorted_graph:\n",
    "    e = e.rstrip(\"\\n\")\n",
    "    indice_point = e.split(\" \")\n",
    "    if int(indice_point[0]) == int(indice_point[1]):\n",
    "        continue\n",
    "    if not(e in cleaned_graph):\n",
    "        cleaned_graph.write(str(e) + \"\\n\")\n",
    "    \n",
    "cleaned_graph.close()\n",
    "sorted_graph.close()"
   ]
  },
  {
   "cell_type": "markdown",
   "metadata": {},
   "source": [
    "### Question 4"
   ]
  },
  {
   "cell_type": "markdown",
   "metadata": {},
   "source": [
    "- La premiere partie du code sert à savoir quel est le sommet le plus grand noté i\n",
    "- Une fois calculé, nous allons initialiser une matrice de dimension (i x 2), qui va nous servir à stocker le nombre de voisins de chaque sommet.\n",
    "- Exemple : <BR/>\n",
    "[[0,2],[1,5],[2,8],[3,2],[4,1],[5,2]] <BR/>\n",
    "Le degré du sommet 0 est 2, de 1 est 5, de 2 est 8 etc ..\n",
    "- Une fois remplie nous allons stocker son contenu dans un fichier degree_data.\n"
   ]
  },
  {
   "cell_type": "code",
   "execution_count": 5,
   "metadata": {},
   "outputs": [],
   "source": [
    "cleaned_data = open(\"graphs/com-lj.ungraph/cleaned_data\", \"r\")\n",
    "\n",
    "# Calcul du sommet le plus grand.\n",
    "i = 0\n",
    "for e in cleaned_data:\n",
    "    e = e.rstrip(\"\\n\")\n",
    "    indice_point = e.split(\" \")\n",
    "    if(int(indice_point[0]) > int(i)):\n",
    "        i = int(indice_point[0])\n",
    "    if(int(indice_point[1]) > int(i)):\n",
    "        i = int(indice_point[1])\n",
    "\n",
    "# degreees_array : matrice représentant le nombre de voisin pour chaque sommet\n",
    "degrees_array = [[str(j),0] for j in range(i+1)]\n",
    "\n",
    "cleaned_data = open(\"graphs/com-lj.ungraph/cleaned_data\", \"r\")\n",
    "degree_data = open(\"graphs/com-lj.ungraph/degree_data\", \"w+\")\n",
    "\n",
    "# Remplissage de la matrice degrees_array\n",
    "# par le nombre de voisins correpondant à chaque sommet\n",
    "\n",
    "for e in cleaned_data:\n",
    "    e = e.rstrip(\"\\n\")\n",
    "    indice_point = e.split(\" \")\n",
    "    d0 = degrees_array[int(indice_point[0])][1] + 1\n",
    "    d1 = degrees_array[int(indice_point[1])][1] + 1\n",
    "    degrees_array[int(indice_point[0])][1] = d0\n",
    "    degrees_array[int(indice_point[1])][1] = d1\n",
    "\n",
    "# Remplissage du fichier à partir de la matrice\n",
    "for l in degrees_array:\n",
    "    degree_data.write(l[0]+\" \"+str(l[1])+\"\\n\")\n",
    "degree_data.close()"
   ]
  },
  {
   "cell_type": "markdown",
   "metadata": {},
   "source": [
    "### Question 5 et 6\n",
    "- Faire 2 deux fois Ctrl + Entrée pour afficher l'histogramme"
   ]
  },
  {
   "cell_type": "code",
   "execution_count": 6,
   "metadata": {},
   "outputs": [
    {
     "name": "stdout",
     "output_type": "stream",
     "text": [
      "La quantité est : Q = 789000450609\n",
      "L'algorithme est executé en 93.73023581504822 secondes\n"
     ]
    }
   ],
   "source": [
    "import time\n",
    "# ********************** Question 5 ********************** #\n",
    "\n",
    "cleaned_graph = open(\"graphs/com-lj.ungraph/cleaned_data\", \"r\")\n",
    "cleaned_graph_deg = open(\"graphs/com-lj.ungraph/degree_data\", \"r\")\n",
    "\n",
    "# Attributs utilises dans la fonction question5()\n",
    "result = 0\n",
    "Du = 0\n",
    "Dv = 0\n",
    "\n",
    "# Fonction qui retourne une hashmap\n",
    "# a partir du fichier qui associe chaque sommet a son degres\n",
    "def former_hashmap(file):\n",
    "    hashmap = dict()\n",
    "    for e in file:\n",
    "        e = e.rstrip(\"\\n\")\n",
    "        indice_point_1 = e.split(\" \")\n",
    "        hashmap[indice_point_1[0]] = int(indice_point_1[1])\n",
    "    return hashmap\n",
    "\n",
    "# Fonction qui retourne la somme des produits des degres\n",
    "# de chaque point appartenant a un edge\n",
    "def question5(cleaned_graph,hashmap):\n",
    "    result = 0\n",
    "    for e in cleaned_graph:\n",
    "        e = e.rstrip(\"\\n\")\n",
    "        indice_point_1 = e.split(\" \")\n",
    "        p = (int(hashmap[indice_point_1[0]]) * int(hashmap[indice_point_1[1]]))\n",
    "        result = result + p\n",
    "    return result\n",
    "\n",
    "# Main et affichage du resultat pour la question 5\n",
    "map_sommet_deg = former_hashmap(cleaned_graph_deg)\n",
    "now = time.time()\n",
    "result = question5(cleaned_graph,map_sommet_deg)\n",
    "after = time.time()\n",
    "print(\"La quantité est : Q = \" + str(result))\n",
    "print(\"L'algorithme est executé en \" + str((after-now))+ \" secondes\")\n",
    "\n",
    "# On ferme les fichiers\n",
    "cleaned_graph_deg.close()\n",
    "cleaned_graph.close()\n",
    "\n",
    "# La quantité est : Q = 789000450609\n",
    "# L'algorithme est executé en 93.73023581504822 secondes"
   ]
  },
  {
   "cell_type": "markdown",
   "metadata": {},
   "source": [
    "La comparaison entre les differents fichier est faite sur le rapport."
   ]
  },
  {
   "cell_type": "code",
   "execution_count": 10,
   "metadata": {},
   "outputs": [
    {
     "name": "stdout",
     "output_type": "stream",
     "text": [
      "Résultat de la question 6 ci-dessous :\n"
     ]
    },
    {
     "data": {
      "text/plain": [
       "<BarContainer object of 1356 artists>"
      ]
     },
     "execution_count": 10,
     "metadata": {},
     "output_type": "execute_result"
    },
    {
     "data": {
      "image/png": "[encoded data removed]",
      "text/plain": [
       "<Figure size 432x288 with 1 Axes>"
      ]
     },
     "metadata": {
      "needs_background": "light"
     },
     "output_type": "display_data"
    }
   ],
   "source": [
    "# ********************** Question 6 ********************** #\n",
    "\n",
    "import matplotlib.pyplot as plt\n",
    "\n",
    "# On effectue un sort() pour avoir un histogramme dans l'ordre\n",
    "list(set(list(map_sommet_deg.values()))).sort()\n",
    "degrees = set(list(map_sommet_deg.values()))\n",
    "\n",
    "# On cree un dictionnaire associant les degres a leur distribution\n",
    "degrees_dist = dict()\n",
    "for d in degrees:\n",
    "    degrees_dist[d] = list(map_sommet_deg.values()).count(d)\n",
    "\n",
    "# On affiche l'histogramme\n",
    "print(\"Résultat de la question 6 ci-dessous :\")\n",
    "plt.bar(degrees_dist.keys(), degrees_dist.values(), 100, color='g')"
   ]
  },
  {
   "cell_type": "markdown",
   "metadata": {},
   "source": [
    "- Abscisse = Degrés\n",
    "- Ordonné = Nombre d'occurences de ces degrès <BR/> \n",
    "\n",
    "On remarque qu'il y a beaucoup plus de degrès entre 0 et 30 que entre 30 et plus, on peut affirmer que les sommets ne sont pas connectés en majorité à plus de 30 autres sommets."
   ]
  },
  {
   "cell_type": "markdown",
   "metadata": {},
   "source": [
    "### Question 7"
   ]
  },
  {
   "cell_type": "markdown",
   "metadata": {},
   "source": [
    "### Liste de edges"
   ]
  },
  {
   "cell_type": "code",
   "execution_count": 11,
   "metadata": {},
   "outputs": [],
   "source": [
    "cleaned_graph = open(\"graphs/com-lj.ungraph/cleaned_data\", \"r\")\n",
    "\n",
    "# ******* Structure de données : liste de edges *******\n",
    "edges = []\n",
    "for e in cleaned_graph:\n",
    "    e = e.rstrip(\"\\n\")\n",
    "    indice_point_1 = e.split(\" \")\n",
    "    edges.append([int(indice_point_1[0]),int(indice_point_1[1])])\n",
    "\n",
    "cleaned_graph.close()"
   ]
  },
  {
   "cell_type": "markdown",
   "metadata": {},
   "source": [
    "### Matrice d'adjacence"
   ]
  },
  {
   "cell_type": "code",
   "execution_count": null,
   "metadata": {},
   "outputs": [],
   "source": [
    "# ******* Structure de données: Matrice d'adjacence *******\n",
    "\n",
    "# Dans le graph, trouver le sommet d'indice maximum pour initialiser une matrice\n",
    "cleaned_graph = open(\"graphs/com-lj.ungraph/cleaned_data\", \"r\")\n",
    "max_int = -1\n",
    "for e in cleaned_graph:\n",
    "    e = e.rstrip(\"\\n\")\n",
    "    indice_point_1 = e.split(\" \")\n",
    "    if int(indice_point_1[0])>max_int:\n",
    "        max_int = int(indice_point_1[0])\n",
    "    if int(indice_point_1[1])>max_int:\n",
    "        max_int = int(indice_point_1[1])\n",
    "        \n",
    "# Creation de la matrice d'adjacence\n",
    "matrice = [[0]* (max_int+1) for j in range(max_int+1)]\n",
    "for e in cleaned_graph:\n",
    "    e = e.rstrip(\"\\n\")\n",
    "    indice_point_1 = e.split(\" \")\n",
    "    matrice[int(indice_point_1[0])][int(indice_point_1[1])] = 1\n",
    "\n",
    "cleaned_graph.close()"
   ]
  },
  {
   "cell_type": "markdown",
   "metadata": {},
   "source": [
    "### Liste d'adjacence"
   ]
  },
  {
   "cell_type": "code",
   "execution_count": 13,
   "metadata": {},
   "outputs": [],
   "source": [
    "# Structure de données: Liste d'adjacence\n",
    "\n",
    "# Dans le graph, trouver le sommet d'indice maximum pour initialiser une matrice\n",
    "cleaned_graph = open(\"graphs/com-lj.ungraph/cleaned_data\", \"r\")\n",
    "max_int = -1\n",
    "for e in cleaned_graph:\n",
    "    e = e.rstrip(\"\\n\")\n",
    "    indice_point_1 = e.split(\" \")\n",
    "    if int(indice_point_1[0])>max_int:\n",
    "        max_int = int(indice_point_1[0])\n",
    "    if int(indice_point_1[1])>max_int:\n",
    "        max_int = int(indice_point_1[1])\n",
    "cleaned_graph.close()\n",
    "\n",
    "cleaned_graph = open(\"graphs/com-lj.ungraph/cleaned_data\", \"r\")\n",
    "map_sommet_voisin = dict()\n",
    "for i in range(max_int+1):\n",
    "    map_sommet_voisin[i] = list()\n",
    "for e in cleaned_graph:\n",
    "    e = e.rstrip(\"\\n\")\n",
    "    indice_point_1 = e.split(\" \")\n",
    "    if(not(int(indice_point_1[1]) in map_sommet_voisin[int(indice_point_1[0])])):\n",
    "        map_sommet_voisin[int(indice_point_1[0])].append(int(indice_point_1[1]))\n",
    "    if(not(int(indice_point_1[0]) in map_sommet_voisin[int(indice_point_1[1])])):\n",
    "        map_sommet_voisin[int(indice_point_1[1])].append(int(indice_point_1[0]))\n",
    "\n",
    "cleaned_graph.close()"
   ]
  },
  {
   "cell_type": "markdown",
   "metadata": {},
   "source": [
    "La comparaison entre les differentes structures est faite sur le rapport."
   ]
  },
  {
   "cell_type": "markdown",
   "metadata": {},
   "source": [
    "### Question 8"
   ]
  },
  {
   "cell_type": "markdown",
   "metadata": {},
   "source": [
    "#### Implémentation du parcours en largeur"
   ]
  },
  {
   "cell_type": "code",
   "execution_count": 14,
   "metadata": {},
   "outputs": [],
   "source": [
    "# Algorithme Breadth First Search\n",
    "\n",
    "import collections\n",
    "\n",
    "def BFS(graph, racine,visit_map): \n",
    "    visited, queue = set(), collections.deque([racine])\n",
    "    bfs_list = []\n",
    "    visited.add(racine)\n",
    "    visit_map[racine] = True\n",
    "    bfs_list.append(racine)\n",
    "    diametre = 0\n",
    "    while queue: \n",
    "        sommet = queue.popleft()\n",
    "        diametre = diametre + 1\n",
    "        for voisin in graph[sommet]: \n",
    "            if voisin not in visited: \n",
    "                bfs_list.append(voisin)\n",
    "                visited.add(voisin)\n",
    "                visit_map[voisin] = True\n",
    "                queue.append(voisin)\n",
    "    return bfs_list"
   ]
  },
  {
   "cell_type": "markdown",
   "metadata": {},
   "source": [
    "#### Recherche de la  composante la plus large"
   ]
  },
  {
   "cell_type": "markdown",
   "metadata": {},
   "source": [
    "On initialise un dictionnaire de sommets visités nommé visited\n",
    " et à chaque fois qu'on visite un sommet on met la value correspondante dans visited à True, ce qui nous permet de ne pas\n",
    "reitérer BFS sur tout les noeuds donc on gagne du temps de calcul conséquent."
   ]
  },
  {
   "cell_type": "markdown",
   "metadata": {},
   "source": [
    "Sachant aussi que les sommets sans edges constituent une composante. <BR/> liste_resultat =  liste de nos composantes"
   ]
  },
  {
   "cell_type": "code",
   "execution_count": 15,
   "metadata": {},
   "outputs": [],
   "source": [
    "l1 = list(map_sommet_voisin.keys())\n",
    "visited = dict()\n",
    "for i in l1:\n",
    "    visited[i] = False\n",
    "liste_resultat = []\n",
    "for i in l1:\n",
    "    if visited[i] ==  False:\n",
    "        l = BFS(map_sommet_voisin,i,visited)\n",
    "        liste_resultat.append([l])"
   ]
  },
  {
   "cell_type": "markdown",
   "metadata": {},
   "source": [
    "Ici on est entrain de chercher la composante connexe la plus large (en nombre de sommets), ici représentée par l'indice \"indi_max\"."
   ]
  },
  {
   "cell_type": "code",
   "execution_count": 16,
   "metadata": {},
   "outputs": [
    {
     "name": "stdout",
     "output_type": "stream",
     "text": [
      "Indice de la composante la plus large 0\n",
      "Composante la plus large 3997962\n"
     ]
    }
   ],
   "source": [
    "size_max = -1\n",
    "indi = 0\n",
    "indice_max = -1\n",
    "lu = []\n",
    "for l in liste_resultat:\n",
    "    n = len(l[0])\n",
    "    if n>size_max:\n",
    "        indice_max = indi\n",
    "        size_max = n\n",
    "        lu = l\n",
    "    indi = indi + 1\n",
    "print(\"Indice de la composante la plus large \" + str(indice_max))\n",
    "print(\"Composante la plus large \" + str(len(lu[0])))"
   ]
  },
  {
   "cell_type": "markdown",
   "metadata": {},
   "source": [
    "#### Calcul du diametre du graphe"
   ]
  },
  {
   "cell_type": "markdown",
   "metadata": {},
   "source": [
    "Cette version de l'algorithme BFS retourne le diametre de la composante courante. "
   ]
  },
  {
   "cell_type": "code",
   "execution_count": 17,
   "metadata": {},
   "outputs": [],
   "source": [
    "# Algorithme Breadth First Search \n",
    "\n",
    "import collections\n",
    "\n",
    "def BFS_2(graph, racine,map_visit): \n",
    "    visited, queue = set(), collections.deque([racine])\n",
    "    bfs_list = []\n",
    "    visited.add(racine)\n",
    "    map_visit[racine] = True\n",
    "    bfs_list.append(racine)\n",
    "    diametre = 0\n",
    "    while queue: \n",
    "        sommet = queue.popleft()\n",
    "        \n",
    "        j = 0\n",
    "        for voisin in graph[sommet]: \n",
    "            if (j== len(graph[sommet])):\n",
    "                diametre = diametre + 1 \n",
    "            \n",
    "            if voisin not in visited: \n",
    "                diametre = diametre + 1\n",
    "                bfs_list.append(voisin)\n",
    "                visited.add(voisin)\n",
    "                map_visit[voisin] = True\n",
    "                queue.append(voisin)\n",
    "            j = j + 1\n",
    "    return diametre"
   ]
  },
  {
   "cell_type": "markdown",
   "metadata": {},
   "source": [
    "La borne inférieure est stocké dans le minimum de la liste_resultat."
   ]
  },
  {
   "cell_type": "markdown",
   "metadata": {},
   "source": [
    "Nous allons chercher la borne inférieure du diametre du graphe, nous allons le calculer pour chaque composante connexe sa frontiere et garder la borne inférieur du domaine de toutes les frontieres des composantes connexes sans compter les composante connexes composées d'un seul sommet."
   ]
  },
  {
   "cell_type": "code",
   "execution_count": 18,
   "metadata": {},
   "outputs": [
    {
     "data": {
      "text/plain": [
       "3997961"
      ]
     },
     "execution_count": 18,
     "metadata": {},
     "output_type": "execute_result"
    }
   ],
   "source": [
    "l1 = list(map_sommet_voisin.keys())\n",
    "visited = dict()\n",
    "for i in l1:\n",
    "    visited[i] = False\n",
    "liste_frontieres = []\n",
    "for i in l1:\n",
    "    if visited[i] ==  False:\n",
    "        l = BFS_2(map_sommet_voisin,i,visited)\n",
    "        liste_frontieres.append(l)\n",
    "s = set(liste_frontieres)\n",
    "s.remove(0)\n",
    "min(s) ## Borne inférieure"
   ]
  },
  {
   "cell_type": "markdown",
   "metadata": {},
   "source": [
    "### Question 9"
   ]
  },
  {
   "cell_type": "markdown",
   "metadata": {},
   "source": [
    "On itere sur chaque sommet noté v, et on boucle sur ses voisins avec u et on boucle sur l'intersection des voisins de u et de v avec k.<BR/>\n",
    "On obtient le triplet u,v,k, c'est notre triangle et on incrémente le nombre de triangles. "
   ]
  },
  {
   "cell_type": "markdown",
   "metadata": {},
   "source": [
    "Notre algorithme compte chaque triangle 3 fois, cependant nous aurions pu résoudre ce problème en testant si on a deja calculé le triangle ou en utilisant la méthode présentée en cours du degré minimum, au préalable il aurait fallu trier la liste des voisins par degré minimum."
   ]
  },
  {
   "cell_type": "markdown",
   "metadata": {},
   "source": [
    "On réussit donc à compter le nombre de triangle en divisant par 3 le nombre calculé avec l'algorithme, idem pour le nombre de triangle par sommet."
   ]
  },
  {
   "cell_type": "code",
   "execution_count": 19,
   "metadata": {},
   "outputs": [
    {
     "name": "stdout",
     "output_type": "stream",
     "text": [
      "Temps d execution 1693.7238960266113\n",
      "Nombre de triangles total : 177820130.0\n"
     ]
    }
   ],
   "source": [
    "def intersection(lst1, lst2): \n",
    "    return list(set(lst1) & set(lst2)) \n",
    "\n",
    "nb_triangle = 0\n",
    "# Stocker le nombre de triangle pour chaque sommet.\n",
    "number_triangles = dict()\n",
    "for i in list(map_sommet_voisin.keys()):\n",
    "    number_triangles[i] = 0\n",
    "\n",
    "now = time.time()\n",
    "#Debut de l'algorithme\n",
    "k = None\n",
    "u = None\n",
    "v = None\n",
    "for v, voisin in map_sommet_voisin.items():\n",
    "    for u in voisin:\n",
    "        if v<u:\n",
    "            for k in intersection(map_sommet_voisin[v],map_sommet_voisin[u]):\n",
    "                number_triangles[k]  = number_triangles[k] + 1\n",
    "                number_triangles[u]  = number_triangles[u] + 1\n",
    "                number_triangles[v]  = number_triangles[v] + 1\n",
    "                nb_triangle = nb_triangle + 1\n",
    "    if(not(k is None) and not(u is None) and not(v is None)):\n",
    "        number_triangles[k]  = int(number_triangles[k]/3) \n",
    "        number_triangles[u]  = int(number_triangles[u]/3)\n",
    "        number_triangles[v]  = int(number_triangles[v]/3)\n",
    "#Fin de l'algorithme\n",
    "after = time.time()\n",
    "print(\"Temps d execution \"+ str(after-now))\n",
    "print(\"Nombre de triangles total : \" + str(nb_triangle/3))       \n",
    "\n",
    "# Temps d execution 1693.7238960266113\n",
    "# Nombre de triangles total : 177820130.0"
   ]
  }
 ],
 "metadata": {
  "kernelspec": {
   "display_name": "Python 3",
   "language": "python",
   "name": "python3"
  },
  "language_info": {
   "codemirror_mode": {
    "name": "ipython",
    "version": 3
   },
   "file_extension": ".py",
   "mimetype": "text/x-python",
   "name": "python",
   "nbconvert_exporter": "python",
   "pygments_lexer": "ipython3",
   "version": "3.7.0"
  }
 },
 "nbformat": 4,
 "nbformat_minor": 2
}
