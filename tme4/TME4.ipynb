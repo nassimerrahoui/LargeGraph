{
 "cells": [
  {
   "cell_type": "markdown",
   "metadata": {},
   "source": [
    " ### Exercice 1"
   ]
  },
  {
   "cell_type": "code",
   "execution_count": null,
   "metadata": {},
   "outputs": [],
   "source": [
    "import random as rdm\n",
    "import networkx as nx\n",
    "\n",
    "COLORS = ['blue','red','yellow','green']\n",
    "COULEUR = [COLORS[i//100] for i in range(400)]\n",
    "\n",
    "option = {\n",
    "    'node_size' : 5,\n",
    "    'node_color' : COULEUR\n",
    "    }   \n",
    "\n",
    "def benchmark(nombre_clusters,taille_cluster,p,q):\n",
    "    \n",
    "    \n",
    "    nombre_nodes = nombre_clusters * taille_cluster\n",
    "    map_sommet_voisin = dict()\n",
    "    \n",
    "    for i in range(nombre_nodes):\n",
    "        map_sommet_voisin[i] = list()\n",
    "    \n",
    "\n",
    " \n",
    "    G = nx.Graph()\n",
    "    G.add_nodes_from([i for i in range(nombre_nodes) ])\n",
    "    \n",
    "    for i in range(nombre_nodes):\n",
    "        for j in range(i+1, nombre_nodes):\n",
    "            if i//taille_cluster == j//taille_cluster and rdm.random() < p:\n",
    "                G.add_edge(i,j)\n",
    "                map_sommet_voisin[i].append(j)\n",
    "                map_sommet_voisin[j].append(i)\n",
    "            if i//taille_cluster != j//taille_cluster and rdm.random() < q:\n",
    "                G.add_edge(i,j)\n",
    "                map_sommet_voisin[i].append(j)\n",
    "                map_sommet_voisin[j].append(i)\n",
    "    return [map_sommet_voisin,G]"
   ]
  },
  {
   "cell_type": "code",
   "execution_count": null,
   "metadata": {},
   "outputs": [],
   "source": [
    "l = benchmark(4, 100,0.1, 0.0)\n",
    "nx.draw(l[1],**option)"
   ]
  },
  {
   "cell_type": "markdown",
   "metadata": {},
   "source": [
    "Pour p = 0.1 et q = 0, on remarque qu'il n'y a pas de liens entre les communautés."
   ]
  },
  {
   "cell_type": "code",
   "execution_count": null,
   "metadata": {},
   "outputs": [],
   "source": [
    "l = benchmark(4, 100,0.1, 0.0005)\n",
    "nx.draw(l[1],**option)"
   ]
  },
  {
   "cell_type": "markdown",
   "metadata": {},
   "source": [
    "Pour p = 0.1 et q = 0.005, on remarque que les liens entre les communautés sont conséquents."
   ]
  },
  {
   "cell_type": "code",
   "execution_count": null,
   "metadata": {},
   "outputs": [],
   "source": [
    "l = benchmark(4, 100,0.5, 0.05)\n",
    "nx.draw(l[1],**option)"
   ]
  },
  {
   "cell_type": "markdown",
   "metadata": {},
   "source": [
    "### Remarques"
   ]
  },
  {
   "cell_type": "markdown",
   "metadata": {},
   "source": [
    "- Pour p = 0.1 et q tend vers 0 :\n",
    "  le rapport tend vers l'infini\n",
    "- Pour p = 0.1 et q = 0.0005 :\n",
    "  le rapport est de : 200.0\n",
    "- Pour p = 0.1 et q = 0.05 :\n",
    "  le rapport est de : 10.0\n",
    " \n",
    "Plus p/q augmente, plus les communautés sont moins connectés, dans le pire des cas on a un rapport qui tend vers l'infini, ce qui nous donne 4 communautés sans liens communs. Dans le cas moyen, le rapport nous donne un certain nombre fini >1, ce qui nous donne un certain nombre moyen de liens entre les communautés. Et dans le cas ou p/q tend vers 1, les communautés sont hyper-connectés."
   ]
  },
  {
   "cell_type": "markdown",
   "metadata": {},
   "source": [
    "## Exercice 2"
   ]
  },
  {
   "cell_type": "markdown",
   "metadata": {},
   "source": [
    "#### Fonctions utilitaires pour l'exercice 2"
   ]
  },
  {
   "cell_type": "code",
   "execution_count": null,
   "metadata": {},
   "outputs": [],
   "source": [
    "# liste de sommets x map sommet label -> liste de label\n",
    "def getLabels(liste,map_labels):\n",
    "    l = []\n",
    "    for i in liste:\n",
    "        l.append(map_labels[i])\n",
    "    return l"
   ]
  },
  {
   "cell_type": "code",
   "execution_count": null,
   "metadata": {},
   "outputs": [],
   "source": [
    "# Comparaison de deux map : l'anciennne et la courante\n",
    "# map x map -> boolean\n",
    "def compare_maps(map1,map2):\n",
    "    values1 =  list(map1.values())\n",
    "    values2 = list(map2.values())\n",
    "    if values1 ==  values2:\n",
    "        return True\n",
    "    return False"
   ]
  },
  {
   "cell_type": "markdown",
   "metadata": {},
   "source": [
    "### 1. Label propagation avec un graph de 400 noeuds"
   ]
  },
  {
   "cell_type": "code",
   "execution_count": null,
   "metadata": {},
   "outputs": [],
   "source": [
    "import copy\n",
    "import time\n",
    "# Liste d'adjacence représentant notre graphe\n",
    "def propagation_label(map_sommet_voisin):\n",
    "    now = time.time()\n",
    "    # Constitution de ordre\n",
    "    ordre = []\n",
    "    for k in map_sommet_voisin.keys():\n",
    "        ordre.append(int(k))\n",
    "\n",
    "    # Step 1\n",
    "    map_label = dict()\n",
    "    map_label_precedente = dict()\n",
    "    for i in list(map_sommet_voisin.keys()):\n",
    "        map_label[i]=int(i)\n",
    "\n",
    "    while(True):\n",
    "        # Step 2\n",
    "        rdm.shuffle(ordre)\n",
    "\n",
    "        # Step 3\n",
    "        for s in ordre:\n",
    "            map_nb_occ = dict()\n",
    "            for v in map_sommet_voisin[s]: \n",
    "                if not(map_label[v] in map_nb_occ.keys()):\n",
    "                    map_nb_occ[map_label[v]] = 0\n",
    "                map_nb_occ[map_label[v]] = map_nb_occ[map_label[v]] + 1\n",
    "\n",
    "            label = max(map_nb_occ, key=map_nb_occ.get)\n",
    "            map_label[s] = label\n",
    "            label = None\n",
    "        print(\"tour\")\n",
    "        # Step 4\n",
    "        if(compare_maps(map_label,map_label_precedente)):\n",
    "            break;\n",
    "        else:\n",
    "            map_label_precedente = copy.deepcopy(map_label)\n",
    "    after = time.time()\n",
    "    # map_community : label_community -> nombre de noeud\n",
    "    map_community = dict()\n",
    "    for s in list(map_label.values()):\n",
    "        if(s in map_community.keys()):\n",
    "            map_community[s] = map_community[s] + 1\n",
    "        else:\n",
    "            map_community[s] = 1\n",
    "    return [len(map_community.keys()),after-now,map_label]"
   ]
  },
  {
   "cell_type": "code",
   "execution_count": null,
   "metadata": {},
   "outputs": [],
   "source": [
    "def tranform_to_community(map_label):\n",
    "    communities = dict()\n",
    "    l = list(map_label.values())\n",
    "    for i in l :\n",
    "        communities[i] =  list()\n",
    "    for k,v in map_label.items():\n",
    "        communities[v].append(str(k))\n",
    "    return communities"
   ]
  },
  {
   "cell_type": "code",
   "execution_count": null,
   "metadata": {},
   "outputs": [],
   "source": [
    "l = benchmark(4, 100,0.1, 0.0005)\n",
    "propagation_label(l[0])"
   ]
  },
  {
   "cell_type": "markdown",
   "metadata": {},
   "source": [
    "### 2. Label propagation avec le graph Youtube\n",
    "#### a. Construction de la liste d'adjacence"
   ]
  },
  {
   "cell_type": "code",
   "execution_count": null,
   "metadata": {},
   "outputs": [],
   "source": [
    "import copy\n",
    "\n",
    "# Structure de données: Liste d'adjacence\n",
    "def read_file(nom_fichier,separator):\n",
    "    # Dans le graph, trouver le sommet d'indice maximum\n",
    "    cleaned_graph = open(nom_fichier, \"r\")\n",
    "    max_int = -1\n",
    "    G = nx.Graph()\n",
    "    for e in cleaned_graph:\n",
    "        if e.startswith(\"#\"):\n",
    "            continue\n",
    "        e = e.rstrip(\"\\n\")\n",
    "        indice_point = e.split(separator)\n",
    "        if int(indice_point[0])>max_int:\n",
    "            max_int = int(indice_point[0])\n",
    "        if int(indice_point[1])>max_int:\n",
    "            max_int = int(indice_point[1])\n",
    "    cleaned_graph.close()\n",
    "\n",
    "\n",
    "    cleaned_graph = open(nom_fichier, \"r\")\n",
    "    map_sommet_voisin_no_filtred = dict()\n",
    "    for i in range(max_int+1):\n",
    "        map_sommet_voisin_no_filtred[i] = list()\n",
    "    for e in cleaned_graph:\n",
    "        if e.startswith(\"#\"):\n",
    "            continue\n",
    "        edge_str = e.rstrip(\"\\n\")\n",
    "        edge = edge_str.split(separator)\n",
    "        if(not(int(edge[1]) in map_sommet_voisin_no_filtred[int(edge[0])])):\n",
    "            G.add_edge(int(edge[0]),int(edge[1]))\n",
    "            map_sommet_voisin_no_filtred[int(edge[0])].append(int(edge[1]))\n",
    "        if(not(int(edge[0]) in map_sommet_voisin_no_filtred[int(edge[1])])):\n",
    "            map_sommet_voisin_no_filtred[int(edge[1])].append(int(edge[0]))\n",
    "            G.add_edge(int(edge[1]),int(edge[0]))\n",
    "\n",
    "    cleaned_graph.close()\n",
    "\n",
    "\n",
    "    # Les sommets sans voisins ne sont pas comptés dans une communauté.\n",
    "    # On filtre notre map\n",
    "    map_sommet_voisin = dict()\n",
    "    for k in map_sommet_voisin_no_filtred.keys():\n",
    "        if len(map_sommet_voisin_no_filtred[k]) == 0:\n",
    "            continue\n",
    "        map_sommet_voisin[k] = map_sommet_voisin_no_filtred[k]\n",
    "\n",
    "    print(\"Nombre de sommet : \" + str(len(list(map_sommet_voisin.keys()))))\n",
    "    return [map_sommet_voisin,G]\n"
   ]
  },
  {
   "cell_type": "markdown",
   "metadata": {},
   "source": [
    "#### b. Lancement du label propagation"
   ]
  },
  {
   "cell_type": "markdown",
   "metadata": {},
   "source": [
    "Nous allons executer l'algorithme de propagation de label  sur le graphe de Youtube et former un dictionnaire formé de numeros de communautés comme cléfs et pour valeur nombre de membres de cette derniere."
   ]
  },
  {
   "cell_type": "code",
   "execution_count": null,
   "metadata": {},
   "outputs": [],
   "source": [
    "map_sommet_voisin = read_file(\"com-youtube.ungraph.txt/data.txt\",\"\\t\")[0]"
   ]
  },
  {
   "cell_type": "code",
   "execution_count": null,
   "metadata": {},
   "outputs": [],
   "source": [
    "\n",
    "# Constitution de ordre\n",
    "ordre = []\n",
    "for k in map_sommet_voisin.keys():\n",
    "    ordre.append(int(k))\n",
    "\n",
    "# Step 1\n",
    "map_label = dict()\n",
    "map_label_precedente = dict()\n",
    "for i in list(map_sommet_voisin.keys()):\n",
    "    map_label[i]=int(i)\n",
    "\n",
    "while(True):\n",
    "    # Step 2\n",
    "    rdm.shuffle(ordre)\n",
    "    \n",
    "    # Step 3\n",
    "    for s in ordre:\n",
    "        map_nb_occ = dict()\n",
    "        for v in map_sommet_voisin[s]: \n",
    "            if not(map_label[v] in map_nb_occ.keys()):\n",
    "                map_nb_occ[map_label[v]] = 0\n",
    "            map_nb_occ[map_label[v]] = map_nb_occ[map_label[v]] + 1\n",
    "        \n",
    "        label = max(map_nb_occ, key=map_nb_occ.get)\n",
    "        map_label[s] = label\n",
    "        label = None\n",
    "        \n",
    "    print(\"tour\")\n",
    "    \n",
    "    # Step 4\n",
    "    if(compare_maps(map_label,map_label_precedente)):\n",
    "        break;\n",
    "    else:\n",
    "        map_label_precedente = copy.deepcopy(map_label)\n",
    "        \n",
    "# map_community : label_community -> nombre de noeud\n",
    "map_community = dict()\n",
    "for s in map_label.values():\n",
    "    if(s in map_community.keys()):\n",
    "        map_community[s] = map_community[s] + 1\n",
    "    else:\n",
    "        map_community[s] = 1\n",
    "    \n",
    "print(\"Nombre de communauté : \" + str(len(set(map_community.keys()))))"
   ]
  },
  {
   "cell_type": "code",
   "execution_count": null,
   "metadata": {},
   "outputs": [],
   "source": [
    "import matplotlib.pyplot as plt\n",
    "x = list(map_community.values())\n",
    "bin_edges =range(101)\n",
    "plt.hist(x,bin_edges)\n",
    "plt.show()"
   ]
  },
  {
   "cell_type": "code",
   "execution_count": null,
   "metadata": {},
   "outputs": [],
   "source": [
    "# Formation d'un dictionnaire avec 10 decompositions de communautés\n",
    "# Constitution de ordre\n",
    "ordre = []\n",
    "for k in map_sommet_voisin.keys():\n",
    "    ordre.append(int(k))\n",
    "map_longueur = dict()\n",
    "j = 0\n",
    "while (j!= 10):\n",
    "    # Step 1\n",
    "    map_label = dict()\n",
    "    map_label_precedente = dict()\n",
    "    for i in list(map_sommet_voisin.keys()):\n",
    "        map_label[i]=int(i)\n",
    "\n",
    "    while(True):\n",
    "        # Step 2\n",
    "        rdm.shuffle(ordre)\n",
    "\n",
    "        # Step 3\n",
    "        for s in ordre:\n",
    "            map_nb_occ = dict()\n",
    "            for v in map_sommet_voisin[s]: \n",
    "                if not(map_label[v] in map_nb_occ.keys()):\n",
    "                    map_nb_occ[map_label[v]] = 0\n",
    "                map_nb_occ[map_label[v]] = map_nb_occ[map_label[v]] + 1\n",
    "\n",
    "            label = max(map_nb_occ, key=map_nb_occ.get)\n",
    "            map_label[s] = label\n",
    "            label = None\n",
    "\n",
    "        print(\"tour\")\n",
    "\n",
    "        # Step 4\n",
    "        if(compare_maps(map_label,map_label_precedente)):\n",
    "            break;\n",
    "        else:\n",
    "            map_label_precedente = copy.deepcopy(map_label)\n",
    "\n",
    "    # map_community : label_community -> nombre de noeud\n",
    "    map_community = dict()\n",
    "    for s in map_label.values():\n",
    "        if(s in map_community.keys()):\n",
    "            map_community[s] = map_community[s] + 1\n",
    "        else:\n",
    "            map_community[s] = 1\n",
    "    j = j + 1\n",
    "    \n",
    "    map_longueur[j] =  len(set(map_community.keys()))\n",
    "    print(j)"
   ]
  },
  {
   "cell_type": "code",
   "execution_count": null,
   "metadata": {},
   "outputs": [],
   "source": [
    "import matplotlib.pyplot as plt\n",
    "x = list(map_longueur.values())\n",
    "bin_edges = x\n",
    "plt.hist(x)\n",
    "plt.show()"
   ]
  },
  {
   "cell_type": "markdown",
   "metadata": {},
   "source": [
    "On a malheureusement pas pu executé 1000 fois l'algorithme donc on l'a seulement fait 10 fois, on obtient donc 10 nombres de communautés.<BR>\n",
    "L'intervalle 38000 - 42000 est la plus large donc c'est celle qui comporte le nombre de communautés en moyenne, le graphe de youtube etant un graphe de terrain et comme expliqué en tme, le nombre de communautés qu'il a réellement est different que celui calculé ici,  le nombre  de communauté dépend de la qualité du shuffle qu'on fait à chaque fois. "
   ]
  },
  {
   "cell_type": "markdown",
   "metadata": {},
   "source": [
    "## Exercice 3\n",
    "### 1. Alogrithme de Louvain\n",
    "#### a. Exemple de l'énoncé"
   ]
  },
  {
   "cell_type": "code",
   "execution_count": null,
   "metadata": {},
   "outputs": [],
   "source": [
    "import community\n",
    "import networkx as nx\n",
    "import matplotlib.pyplot as plt\n",
    "import time\n",
    "\n",
    "def louvain(G):\n",
    "    now = time.time()\n",
    "    #first compute the best partition\n",
    "    partition = community.best_partition(G)\n",
    "    after = time.time()\n",
    "    #print(\"haha\")\n",
    "\n",
    "    #drawing\n",
    "    size = float(len(set(partition.values())))\n",
    "    pos = nx.spring_layout(G)\n",
    "    count = 0.\n",
    "    communities = dict()\n",
    "    for com in set(partition.values()) :\n",
    "        \n",
    "        list_nodes = [str(nodes) for nodes in partition.keys()\n",
    "                                    if partition[nodes] == com]\n",
    "        communities[count] =  list_nodes\n",
    "    \n",
    "        count = count + 1.\n",
    "        print(count)\n",
    "\n",
    "    \n",
    "    return [[count,after-now],communities]"
   ]
  },
  {
   "cell_type": "markdown",
   "metadata": {},
   "source": [
    "## Evaluation de la rapidité d'execution des 2 algorithmes:"
   ]
  },
  {
   "cell_type": "markdown",
   "metadata": {},
   "source": [
    "### Etude expérimentale:\n"
   ]
  },
  {
   "cell_type": "markdown",
   "metadata": {},
   "source": [
    "Nous allons tester les implémentations de l'algorithme de louvain et de propagation de label sur différents jeux de données generées grace à notre fonction de benchmark utilisée à l'exercice 1. [400,1000,1500,2000] <BR> Les 4 communautés ne se chevauchent pas et on peut les detecter intuitivement. <BR>\n",
    "    Sachant que la métrique utilisée pour  l'algorithme de louvain est la modularité de partition."
   ]
  },
  {
   "cell_type": "code",
   "execution_count": null,
   "metadata": {},
   "outputs": [],
   "source": [
    "#lecture des graphes en mode dicos\n",
    "l_1 =  benchmark(4,500,0.1, 0.0005)\n",
    "map_sommet_voisin_1 = l_1[0]\n",
    "G_1 =  l_1[1]\n"
   ]
  },
  {
   "cell_type": "code",
   "execution_count": null,
   "metadata": {},
   "outputs": [],
   "source": [
    "print(propagation_label(map_sommet_voisin_1))"
   ]
  },
  {
   "cell_type": "code",
   "execution_count": null,
   "metadata": {},
   "outputs": [],
   "source": [
    "print(louvain(G_1))"
   ]
  },
  {
   "cell_type": "code",
   "execution_count": null,
   "metadata": {},
   "outputs": [],
   "source": [
    "[4, 0.07597064971923828] [4, 0.1759326457977295] [4, 0.4238443374633789] [4, 0.49181318283081055]\n",
    "[4.0, 3.848557472229004] [4.0, 30.23245906829834] [4.0, 53.572322368621826] [4.0, 85.50057578086853]"
   ]
  },
  {
   "cell_type": "code",
   "execution_count": null,
   "metadata": {},
   "outputs": [],
   "source": [
    "x = [400,1000,1500,2000]\n",
    "y_label_propagation =  [0.07597064971923828,0.1759326457977295,0.4238443374633789,0.49181318283081055]\n",
    "y_louvain = [3.848557472229004, 30.23245906829834,53.572322368621826,85.50057578086853]\n",
    "plt.plot(x,y_label_propagation)\n",
    "plt.plot(x,y_louvain)"
   ]
  },
  {
   "cell_type": "code",
   "execution_count": null,
   "metadata": {},
   "outputs": [],
   "source": [
    "plt.show()"
   ]
  },
  {
   "cell_type": "markdown",
   "metadata": {},
   "source": [
    "La courbe bleu représente le temps d'execution en fonction de la taille du graph en utilisant l'algorithme de propagation de label et la courbe orange représente l'execution en utilisant l'algorithme de louvain.<BR>\n",
    "On remarque très bien que l'algorithme de louvain est plus lent à s'exécuter que celui de propagation de  label."
   ]
  },
  {
   "cell_type": "markdown",
   "metadata": {},
   "source": [
    "## Evaluation  de la précision des 2 algorithmes : "
   ]
  },
  {
   "cell_type": "markdown",
   "metadata": {},
   "source": [
    "### Utilisation du benchmark du 1er exercice :"
   ]
  },
  {
   "cell_type": "markdown",
   "metadata": {},
   "source": [
    "Nous allons maintenant tester nos deux algorithmes sur des graphes à partir de notre benchmark du 1er exercice afin d'évaluer leur précision et les comparer en utilisant la metrique NMI abordée en cours."
   ]
  },
  {
   "cell_type": "code",
   "execution_count": null,
   "metadata": {},
   "outputs": [],
   "source": [
    "l_1  = benchmark(4,210,0.1, 0.0005)"
   ]
  },
  {
   "cell_type": "code",
   "execution_count": null,
   "metadata": {},
   "outputs": [],
   "source": [
    "coo = propagation_label(l_1[0])\n",
    "go = tranform_to_community(coo[2])"
   ]
  },
  {
   "cell_type": "markdown",
   "metadata": {},
   "source": [
    "###  Metrique NMI"
   ]
  },
  {
   "cell_type": "code",
   "execution_count": null,
   "metadata": {},
   "outputs": [],
   "source": [
    "network = read_file(\"package1/binary_networks/network.dat\",\"\\t\")\n",
    "#louvaned_graph = louvain(network[1])\n",
    "propaged_graph = tranform_to_community(propagation_label(network[0])[2])"
   ]
  },
  {
   "cell_type": "code",
   "execution_count": null,
   "metadata": {},
   "outputs": [],
   "source": [
    "f2 = open(\"file2_1\",\"w+\")\n",
    "for k,v in propaged_graph.items():\n",
    "    ch = \" \".join(v)\n",
    "    f2.write(ch+'\\n')\n",
    "f2.close()"
   ]
  },
  {
   "cell_type": "code",
   "execution_count": null,
   "metadata": {},
   "outputs": [],
   "source": [
    "def convert_to_communities(file,separator):\n",
    "    cleaned_graph = open(file, \"r\")\n",
    "    communities  = dict()\n",
    "    for e in cleaned_graph:\n",
    "        e = e.rstrip(\"\\n\")\n",
    "        indice_point = e.split(separator)\n",
    "        deuxieme_partie = indice_point[1].split(\"\\t\")\n",
    "        #deuxieme_partie.remove(\"\") #seuelemnt pour LFR Benchmark\n",
    "        if len(deuxieme_partie) > 1:\n",
    "            for v in deuxieme_partie:\n",
    "                #print(int(v))\n",
    "                v  =  int(v)\n",
    "                if not(v in list(communities.keys())):\n",
    "                    communities[v]  = list()\n",
    "                communities[v].append(indice_point[0])\n",
    "        else:\n",
    "                deuxieme_partie = int(deuxieme_partie[0])\n",
    "                if not(deuxieme_partie in list(communities.keys())):\n",
    "                    communities[deuxieme_partie]  = list()\n",
    "                communities[deuxieme_partie].append(indice_point[0])\n",
    "    return communities"
   ]
  },
  {
   "cell_type": "code",
   "execution_count": null,
   "metadata": {
    "scrolled": true
   },
   "outputs": [],
   "source": [
    "oups = convert_to_communities(\"package1/binary_networks/community.dat\",\"\\t\")"
   ]
  },
  {
   "cell_type": "code",
   "execution_count": null,
   "metadata": {},
   "outputs": [],
   "source": [
    "f = open(\"file1\",\"w+\")\n",
    "for k,v in oups.items():\n",
    "    #print(v)\n",
    "    ch = \" \".join(v)\n",
    "    f.write(ch+'\\n')\n",
    "f.close()"
   ]
  },
  {
   "cell_type": "code",
   "execution_count": null,
   "metadata": {},
   "outputs": [],
   "source": [
    "print(propagation_label(network[0]))"
   ]
  },
  {
   "cell_type": "markdown",
   "metadata": {},
   "source": [
    "NMI entre fichier LFR benchmark et fichier louvain: <BR>\n",
    "    NMI<Max>:\t0.426303\n",
    "Other measures:\n",
    "  lfkNMI:\t0.548187\n",
    "  NMI<Sum>:\t0.513461 <BR>\n",
    "NMI entre fichier LFR benchmark et fichier label propagation: \n",
    "    NMI<Max>:\t0.474214\n",
    "Other measures:\n",
    "  lfkNMI:\t0.585301\n",
    "  NMI<Sum>:\t0.563418\n",
    "\n",
    "    \n",
    "    \n"
   ]
  },
  {
   "cell_type": "markdown",
   "metadata": {},
   "source": [
    "### Utilisation du fichier Youtube"
   ]
  },
  {
   "cell_type": "code",
   "execution_count": null,
   "metadata": {},
   "outputs": [],
   "source": [
    "f = open(\"modisco_louvain-master/graph_youtube.tree\",\"r\")\n",
    "map_community_louvain_youtube = dict()\n",
    "for e in f:\n",
    "    e = e.rstrip(\"\\n\")\n",
    "    coordonnee = e.split(\"\\t\")\n",
    "    map_community_louvain_youtube[coordonnee[0]] = coordonnee[1]\n",
    "f.close()"
   ]
  },
  {
   "cell_type": "code",
   "execution_count": null,
   "metadata": {},
   "outputs": [],
   "source": [
    "oups1 = tranform_to_community(map_community_louvain_youtube)"
   ]
  },
  {
   "cell_type": "code",
   "execution_count": null,
   "metadata": {},
   "outputs": [],
   "source": [
    "# le fichier genere de communautes avec louvain\n",
    "f_youtube = open(\"youtube_louvain\",\"w+\")\n",
    "for k,v in oups1.items():\n",
    "    ch = \" \".join(v)\n",
    "    f_youtube.write(ch+'\\n')\n",
    "f_youtube.close()"
   ]
  },
  {
   "cell_type": "code",
   "execution_count": null,
   "metadata": {},
   "outputs": [],
   "source": [
    "youtube = read_file(\"modisco_louvain-master/data.txt\",\"\\t\" )[0]"
   ]
  },
  {
   "cell_type": "code",
   "execution_count": null,
   "metadata": {},
   "outputs": [],
   "source": [
    "map_label_youtube = propagation_label(youtube)[2]"
   ]
  },
  {
   "cell_type": "code",
   "execution_count": null,
   "metadata": {},
   "outputs": [],
   "source": [
    "oups2 = tranform_to_community(map_label_youtube)\n",
    "f_youtube_label_propagation = open(\"youtube_label_propagation\",\"w+\")\n",
    "for k,v in oups2.items():\n",
    "    ch = \" \".join(v)\n",
    "    f_youtube_label_propagation.write(ch+'\\n')\n",
    "f_youtube_label_propagation.close()"
   ]
  },
  {
   "cell_type": "code",
   "execution_count": null,
   "metadata": {},
   "outputs": [],
   "source": [
    "community_youtube_truth = convert_to_communities(\"com-youtube.all.cmty.txt\",\"r\")"
   ]
  }
 ],
 "metadata": {
  "kernelspec": {
   "display_name": "Python 3",
   "language": "python",
   "name": "python3"
  },
  "language_info": {
   "codemirror_mode": {
    "name": "ipython",
    "version": 3
   },
   "file_extension": ".py",
   "mimetype": "text/x-python",
   "name": "python",
   "nbconvert_exporter": "python",
   "pygments_lexer": "ipython3",
   "version": "3.5.3"
  }
 },
 "nbformat": 4,
 "nbformat_minor": 2
}
