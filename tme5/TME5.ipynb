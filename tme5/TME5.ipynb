{
 "cells": [
  {
   "cell_type": "markdown",
   "metadata": {},
   "source": [
    "# PageRank Implementation"
   ]
  },
  {
   "cell_type": "code",
   "execution_count": null,
   "metadata": {},
   "outputs": [],
   "source": [
    "liste_nodes = open(\"/Vrac/CPA-PageRank/alr21--pageNum2Name--enwiki-20071018.txt\", \"r\",encoding=\"utf-8\")\n",
    "map_sommet_page = dict()\n",
    "\n",
    "for e in liste_nodes:\n",
    "    if e.startswith(\"#\") or e.startswith(\"\\n\"):\n",
    "        continue\n",
    "    e = e.rstrip(\"\\n\")\n",
    "    indice_point_1 = e.split(\"\\t\")\n",
    "    \n",
    "    map_sommet_page[int(indice_point_1[0])] = indice_point_1[1]\n",
    "\n",
    "liste_nodes.close()\n"
   ]
  },
  {
   "cell_type": "markdown",
   "metadata": {},
   "source": [
    "## Chargement du graphe de sites web:"
   ]
  },
  {
   "cell_type": "code",
   "execution_count": null,
   "metadata": {},
   "outputs": [],
   "source": [
    "# Structure de données: Liste d'adjacence\n",
    "cleaned_graph = open(\"/Vrac/CPA-PageRank/alr21--dirLinks--enwiki-20071018.txt\", \"r\",encoding=\"utf-8\")\n",
    "\n",
    "max_int = -1\n",
    "for e in cleaned_graph:\n",
    "    if e.startswith(\"#\"):\n",
    "        continue\n",
    "    e = e.rstrip(\"\\n\")\n",
    "    indice_point = e.split(\"\\t\")\n",
    "    if int(indice_point[0])>max_int:\n",
    "        max_int = int(indice_point[0])\n",
    "    if int(indice_point[1])>max_int:\n",
    "        max_int = int(indice_point[1])\n",
    "cleaned_graph.close()\n",
    "\n",
    "cleaned_graph = open(\"/Vrac/CPA-PageRank/alr21--dirLinks--enwiki-20071018.txt\", \"r\",encoding=\"utf-8\")\n",
    "\n",
    "map_sommet_succ = dict()\n",
    "for i in range(max_int+1):\n",
    "    map_sommet_succ[i] = [[],0,0]\n",
    "map_sommet_pred = dict() \n",
    "for i in range(max_int+1):\n",
    "    map_sommet_pred[i] = [[],0]\n",
    "\n",
    "for e in cleaned_graph:\n",
    "    if e.startswith(\"#\") or e.startswith(\"\\n\"):\n",
    "        continue\n",
    "    e = e.rstrip(\"\\n\")\n",
    "    indice_point_1 = e.split(\"\\t\")\n",
    "    map_sommet_succ[int(indice_point_1[0])][0].append(indice_point_1[1])\n",
    "    map_sommet_succ[int(indice_point_1[0])][1] = map_sommet_succ[int(indice_point_1[0])][1] + 1\n",
    "    map_sommet_succ[int(indice_point_1[0])][2] = 1/map_sommet_succ[int(indice_point_1[0])][1]\n",
    "    \n",
    "    map_sommet_pred[int(indice_point_1[1])][0].append(indice_point_1[0])\n",
    "    map_sommet_pred[int(indice_point_1[1])][1] = map_sommet_succ[int(indice_point_1[1])][1] + 1\n",
    "        \n",
    "cleaned_graph.close()"
   ]
  },
  {
   "cell_type": "code",
   "execution_count": null,
   "metadata": {},
   "outputs": [],
   "source": [
    "map_sommet_succ_copy = dict()\n",
    "for k,v in map_sommet_succ.items():\n",
    "    if v[0] != []:\n",
    "        map_sommet_succ_copy[k] = v\n",
    "    "
   ]
  },
  {
   "cell_type": "markdown",
   "metadata": {},
   "source": [
    "### Produit Matriciel"
   ]
  },
  {
   "cell_type": "code",
   "execution_count": null,
   "metadata": {},
   "outputs": [],
   "source": [
    "print(len(list(map_sommet_succ.keys())))\n",
    "def norm(p):\n",
    "    #print(p)\n",
    "    res = 0\n",
    "    for i in list(p.keys()):\n",
    "        res = res + p[i]\n",
    "    return res"
   ]
  },
  {
   "cell_type": "code",
   "execution_count": null,
   "metadata": {},
   "outputs": [],
   "source": [
    "def normalize(p,n,norma):    \n",
    "    res = p\n",
    "    i = 0\n",
    "    for i in list(p.keys()):\n",
    "        normalisated = (1 - norma)/n\n",
    "        res[i] =  res[i] + normalisated\n",
    "    return res"
   ]
  },
  {
   "cell_type": "code",
   "execution_count": null,
   "metadata": {},
   "outputs": [],
   "source": [
    "import copy\n",
    "\n",
    "def compare(p,vec,epsilon):\n",
    "    keys = list(p.keys())\n",
    "    for i in keys:\n",
    "        #print(abs(p[i]-vec[i]), \" epsilon = \",epsilon )\n",
    "        if (abs(p[i]-vec[i])>epsilon):      \n",
    "            return False\n",
    "    \n",
    "    return True"
   ]
  },
  {
   "cell_type": "code",
   "execution_count": null,
   "metadata": {},
   "outputs": [],
   "source": [
    "def power_iteration_1(liste_succ,alpha,n):\n",
    "    vec = dict()\n",
    "    keys = list(liste_succ.keys())\n",
    "    p = dict()\n",
    "    for i in keys:\n",
    "        vec[int(i)] = 1/n\n",
    "        p[i] = 0\n",
    "    d = 1 - alpha\n",
    "    \n",
    "    \n",
    "    j = 0\n",
    "    while(True):\n",
    "        \n",
    "        \n",
    "        for i in keys:\n",
    "            if liste_succ[i][0] == []:\n",
    "                continue\n",
    "            for v in liste_succ[i][0]:       \n",
    "                v = int(v)\n",
    "                #print(\" valeur =\",(d*vec[i]/liste_succ[i][1]), \"p[v] = \",p[v])\n",
    "                p[v] = p[v] + (d*vec[i]/liste_succ[i][1])\n",
    "\n",
    "        print(\"boucle for\")\n",
    "        norma = norm(p)\n",
    "        p = normalize(p,n,norma)\n",
    "        \n",
    "        j = j + 1\n",
    "        print(j)\n",
    "        if (j==15):            \n",
    "            break\n",
    "        \n",
    "        for i in keys:\n",
    "            if liste_succ[i][0] == []:\n",
    "                continue\n",
    "            vec[i] = p[i]\n",
    "            p[i] = 0\n",
    "\n",
    "    return p"
   ]
  },
  {
   "cell_type": "code",
   "execution_count": null,
   "metadata": {},
   "outputs": [],
   "source": [
    "p = power_iteration_1(map_sommet_succ,0.15,len(list(map_sommet_succ.keys())))"
   ]
  },
  {
   "cell_type": "code",
   "execution_count": null,
   "metadata": {},
   "outputs": [],
   "source": [
    "p2 = power_iteration_1(map_sommet_succ,0.9,len(list(map_sommet_succ.keys())))"
   ]
  },
  {
   "cell_type": "code",
   "execution_count": null,
   "metadata": {},
   "outputs": [],
   "source": [
    "p1 = copy.deepcopy(p)"
   ]
  },
  {
   "cell_type": "code",
   "execution_count": null,
   "metadata": {},
   "outputs": [],
   "source": [
    "def getKeyByValue(p,value):\n",
    "    key = 0\n",
    "    for k,v in p.items():\n",
    "        if (value == v):\n",
    "            key = k\n",
    "    return key\n",
    "\n",
    "def getHighestPageRanks(p):\n",
    "    l = list()\n",
    "    for i in range(5):\n",
    "        pmax = max(list(p.values()))\n",
    "        indice_max = getKeyByValue(p,pmax)\n",
    "        l.append(indice_max)\n",
    "        del(p[indice_max])\n",
    "    return l \n",
    "\n",
    "def getLowestPageRanks(p):\n",
    "    l = list()\n",
    "    for i in range(5):\n",
    "        pmin = min(list(p.values()))\n",
    "        indice_min = getKeyByValue(p,pmin)\n",
    "        l.append(indice_min)\n",
    "        print(indice_min)\n",
    "        print(pmin)\n",
    "        print(\"---------\")\n",
    "        del(p[indice_min])\n",
    "    return l "
   ]
  },
  {
   "cell_type": "code",
   "execution_count": null,
   "metadata": {},
   "outputs": [],
   "source": [
    "id_highest_page_ranks = getHighestPageRanks(p1)"
   ]
  },
  {
   "cell_type": "code",
   "execution_count": null,
   "metadata": {},
   "outputs": [],
   "source": [
    "highest_page_ranks = list()\n",
    "for i in id_highest_page_ranks:\n",
    "    highest_page_ranks.append(map_sommet_page[i])"
   ]
  },
  {
   "cell_type": "code",
   "execution_count": null,
   "metadata": {},
   "outputs": [],
   "source": [
    "highest_page_ranks"
   ]
  },
  {
   "cell_type": "code",
   "execution_count": null,
   "metadata": {},
   "outputs": [],
   "source": [
    "id_lowest_page_ranks = getLowestPageRanks(p1)\n"
   ]
  },
  {
   "cell_type": "code",
   "execution_count": null,
   "metadata": {},
   "outputs": [],
   "source": [
    "lowest_page_ranks = list()\n",
    "for i in id_lowest_page_ranks:\n",
    "    print(map_sommet_page[i])\n",
    "    lowest_page_ranks.append(map_sommet_page[i])"
   ]
  },
  {
   "cell_type": "code",
   "execution_count": null,
   "metadata": {},
   "outputs": [],
   "source": [
    "lowest_page_ranks"
   ]
  },
  {
   "cell_type": "markdown",
   "metadata": {},
   "source": [
    "## Exercice 2: Correlations"
   ]
  },
  {
   "cell_type": "code",
   "execution_count": null,
   "metadata": {},
   "outputs": [],
   "source": [
    "y = []\n",
    "for i in list(p.keys()):\n",
    "    y.append(map_sommet_pred[i][1])"
   ]
  },
  {
   "cell_type": "code",
   "execution_count": null,
   "metadata": {},
   "outputs": [],
   "source": [
    "import matplotlib.pyplot as plt\n",
    "plt.figure()\n",
    "plt.plot(list(p.values()),y,'ro')\n",
    "plt.xscale('log')"
   ]
  },
  {
   "cell_type": "code",
   "execution_count": null,
   "metadata": {},
   "outputs": [],
   "source": [
    "plt.show()"
   ]
  }
 ],
 "metadata": {
  "kernelspec": {
   "display_name": "Python 3",
   "language": "python",
   "name": "python3"
  },
  "language_info": {
   "codemirror_mode": {
    "name": "ipython",
    "version": 3
   },
   "file_extension": ".py",
   "mimetype": "text/x-python",
   "name": "python",
   "nbconvert_exporter": "python",
   "pygments_lexer": "ipython3",
   "version": "3.5.3"
  }
 },
 "nbformat": 4,
 "nbformat_minor": 2
}
